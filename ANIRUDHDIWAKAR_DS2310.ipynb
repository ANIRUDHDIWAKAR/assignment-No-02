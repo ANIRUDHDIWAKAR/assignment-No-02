{
 "cells": [
  {
   "cell_type": "code",
   "execution_count": 1,
   "id": "983531ec",
   "metadata": {},
   "outputs": [],
   "source": [
    "#Question 1-Write a Python program to replace all occurrences of a space, comma, or dot with a colon.\n",
    "#Sample Text-'Python Exercises, PHP exercises.'\n",
    "#Expected Output:Python:Exercises::PHP:exercises:\n",
    "\n",
    "\n",
    "def replace_chars_with_colon(input_text):\n",
    "    replace_chars = ' ,.'\n",
    "    for char in replace_chars:\n",
    "        input_text = input_text.replace(char, ':')\n",
    "        return input_text\n",
    "    \n",
    "    sample_text = 'python exercises, PHP Excercises.'\n",
    "    result = replace_chars_with_colon(sample_text)\n",
    "    print(result)"
   ]
  },
  {
   "cell_type": "code",
   "execution_count": 2,
   "id": "f253dacb",
   "metadata": {},
   "outputs": [
    {
     "name": "stdout",
     "output_type": "stream",
     "text": [
      "            SUMMARY\n",
      "0       hello world\n",
      "1        XXXXX test\n",
      "2  123four five six\n"
     ]
    }
   ],
   "source": [
    "#Question 2-Create a dataframe using the dictionary below and remove everything (commas (,), !, XXXX, ;, etc.) from the columns except words.\n",
    "#Dictionary-{'SUMMARY' : ['hello, world!', 'XXXXX test', '123four, five:; six...']}\n",
    "#Expected output-\n",
    "#0      hello world\n",
    "#1             test\n",
    "#2    four five six\n",
    "\n",
    "\n",
    "import pandas as pd\n",
    "import re\n",
    "data = {'SUMMARY' : ['hello, world!', 'XXXXX test', '123four, five:; six...']}\n",
    "df = pd.DataFrame(data)\n",
    "# Define a function to remove non-word characters using regular expressions\n",
    "def remove_non_words(text):\n",
    "    return ' '.join(re.findall(r'\\b\\w+\\b', text))\n",
    "\n",
    "# Apply the function to the 'SUMMARY' column\n",
    "df['SUMMARY'] = df['SUMMARY'].apply(remove_non_words)\n",
    "\n",
    "print(df)"
   ]
  },
  {
   "cell_type": "code",
   "execution_count": 4,
   "id": "6912bce0",
   "metadata": {},
   "outputs": [
    {
     "name": "stdout",
     "output_type": "stream",
     "text": [
      "['name', 'Anirudh', 'Diwakar', 'years', 'from', 'allahabad', 'intern', 'Flip', 'Robo', 'Technology']\n"
     ]
    }
   ],
   "source": [
    "#Question 3- Create a function inpython to find all words that are at least 4 characters long in a string.\n",
    "#The use of the re.compile() method is mandatory.\n",
    "\n",
    "\n",
    "import re\n",
    "\n",
    "def find_words_at_least_n_chars(text, n):\n",
    "    # Create a compiled regular expression pattern to match words of at least n characters\n",
    "    pattern = re.compile(r'\\b\\w{%d,}\\b' % n)\n",
    "    \n",
    "    # Use the findall method to find all matching words in the text\n",
    "    words = pattern.findall(text)\n",
    "    \n",
    "    return words\n",
    "\n",
    "# Example usage:\n",
    "input_string = \"My name is Anirudh Diwakar, i am 30 years old, i am from allahabad , intern at Flip Robo Technology.\"\n",
    "min_word_length = 4\n",
    "\n",
    "found_words = find_words_at_least_n_chars(input_string, min_word_length)\n",
    "print(found_words)"
   ]
  },
  {
   "cell_type": "code",
   "execution_count": 10,
   "id": "c998ce50",
   "metadata": {},
   "outputs": [
    {
     "name": "stdout",
     "output_type": "stream",
     "text": [
      "[]\n"
     ]
    }
   ],
   "source": [
    "#Question 4-Create a function in python to find all three, four, and five character words in a string. \n",
    "#The use of the re.compile() method is mandatory.\n",
    "\n",
    "\n",
    "def find_words_of_lengths(text, lengths):\n",
    "    # Create a regular expression pattern to match words of specific lengths\n",
    "    pattern = re.compile(r'\\b\\w{%s}\\b' % '|'.join(map(str, lengths)))\n",
    "    \n",
    "    # Use the findall method to find all matching words in the text\n",
    "    words = pattern.findall(text)\n",
    "    \n",
    "    return words\n",
    "\n",
    "# Example usage:\n",
    "input_string = \"My name is Anirudh Diwakar, i am 30 years old, i am from allahabad , intern at Flip Robo Technology.\"\n",
    "word_lengths = [ 3,4, 5]\n",
    "\n",
    "found_words = find_words_of_lengths(input_string, word_lengths)\n",
    "print(found_words)"
   ]
  },
  {
   "cell_type": "code",
   "execution_count": 12,
   "id": "2eff1c56",
   "metadata": {},
   "outputs": [
    {
     "name": "stdout",
     "output_type": "stream",
     "text": [
      "example\n",
      "hr@fliprobo\n",
      "github\n",
      "Hello\n",
      "Data\n"
     ]
    }
   ],
   "source": [
    "#Question 5- Create a function in Python to remove the parenthesis in a list of strings.The use of the re.compile() method is mandatory.\n",
    "#Sample Text:[\"example (.com)\", \"hr@fliprobo (.com)\", \"github (.com)\", \"Hello (Data Science World)\", \"Data (Scientist)\"]\n",
    "#Expected Output:\n",
    "#example.com\n",
    "#hr@fliprobo.com\n",
    "#github.com\n",
    "#Hello Data Science World\n",
    "#Data Scientist\n",
    "\n",
    "\n",
    "def remove_parentheses(strings):\n",
    "    # Create a regular expression pattern to match and remove parentheses\n",
    "    pattern = re.compile(r'\\s*\\([^)]*\\)')\n",
    "    \n",
    "    # Use the sub method to remove parentheses in each string in the list\n",
    "    cleaned_strings = [pattern.sub('', s) for s in strings]\n",
    "    \n",
    "    return cleaned_strings\n",
    "\n",
    "# Example usage:\n",
    "string_list = [\"example (.com)\", \"hr@fliprobo (.com)\", \"github (.com)\", \"Hello (Data Science World)\", \"Data (Scientist)\"]\n",
    "\n",
    "cleaned_list = remove_parentheses(string_list)\n",
    "for cleaned_string in cleaned_list:\n",
    "    print(cleaned_string)\n"
   ]
  },
  {
   "cell_type": "code",
   "execution_count": 13,
   "id": "fc1b1fa2",
   "metadata": {},
   "outputs": [
    {
     "name": "stdout",
     "output_type": "stream",
     "text": [
      "example\n",
      "hr@fliprobo\n",
      "github\n",
      "Hello\n",
      "Data\n"
     ]
    }
   ],
   "source": [
    "#   Question 6- Write a python program to remove the parenthesis area from the \n",
    "#   text stored in the text file using Regular Expression.\n",
    "#Sample Text:[\"example (.com)\", \"hr@fliprobo (.com)\", \"github (.com)\", \"Hello (Data Science World)\", \"Data (Scientist)\"]\n",
    "#Expected Output:[\"example\", \"hr@fliprobo\", \"github\", \"Hello\", \"Data\"]\n",
    "#Note- Store given sample text in the text file and then to remove the parenthesis area from the text.\n",
    "\n",
    "\n",
    "def remove_parentheses(strings):\n",
    "    # Create a regular expression pattern to match and remove parentheses\n",
    "    pattern = re.compile(r'\\s*\\([^)]*\\)')\n",
    "    \n",
    "    # Use the sub method to remove parentheses in each string in the list\n",
    "    cleaned_strings = [pattern.sub('', s) for s in strings]\n",
    "    \n",
    "    return cleaned_strings\n",
    "\n",
    "# Example usage:\n",
    "string_list = [\"example (.com)\", \"hr@fliprobo (.com)\", \"github (.com)\", \"Hello (Data Science World)\", \"Data (Scientist)\"]\n",
    "\n",
    "cleaned_list = remove_parentheses(string_list)\n",
    "for cleaned_string in cleaned_list:\n",
    "    print(cleaned_string)\n"
   ]
  },
  {
   "cell_type": "code",
   "execution_count": 15,
   "id": "a627338a",
   "metadata": {},
   "outputs": [
    {
     "name": "stdout",
     "output_type": "stream",
     "text": [
      "['Importance', 'Of', 'Regular', 'Expressions', 'In', 'Python']\n"
     ]
    }
   ],
   "source": [
    "#Question 7-Write a regular expression in Python to split a string into uppercase letters.\n",
    "#Sample text: “ImportanceOfRegularExpressionsInPython”\n",
    "#Expected Output:[‘Importance’, ‘Of’, ‘Regular’, ‘Expression’, ‘In’, ‘Python’]\n",
    "\n",
    "\n",
    "import re\n",
    "\n",
    "sample_text = \"ImportanceOfRegularExpressionsInPython\"\n",
    "\n",
    "# Use regular expression to split the string into uppercase letters\n",
    "result = re.findall(r'[A-Z][a-z]*', sample_text)\n",
    "\n",
    "print(result)"
   ]
  },
  {
   "cell_type": "code",
   "execution_count": 16,
   "id": "796ca3c3",
   "metadata": {},
   "outputs": [
    {
     "name": "stdout",
     "output_type": "stream",
     "text": [
      "RegularExpression1 IsAn2 ImportantTopic3 InPython\n"
     ]
    }
   ],
   "source": [
    "#Question 8- Create a function in python to insert spaces between words starting with numbers.\n",
    "#Sample Text: “RegularExpression1IsAn2ImportantTopic3InPython\"\n",
    "#Expected Output: RegularExpression 1IsAn 2ImportantTopic 3InPython\n",
    "\n",
    "\n",
    "import re\n",
    "\n",
    "def insert_spaces_before_numbers(text):\n",
    "    # Use regular expression to insert spaces before words that start with numbers\n",
    "    result = re.sub(r'(\\d)([A-Za-z])', r'\\1 \\2', text)\n",
    "    return result\n",
    "\n",
    "# Example usage:\n",
    "sample_text = \"RegularExpression1IsAn2ImportantTopic3InPython\"\n",
    "result_text = insert_spaces_before_numbers(sample_text)\n",
    "print(result_text)\n",
    "\n",
    "\n"
   ]
  },
  {
   "cell_type": "code",
   "execution_count": 17,
   "id": "f0b08720",
   "metadata": {},
   "outputs": [
    {
     "name": "stdout",
     "output_type": "stream",
     "text": [
      "R egularE xpression1 IsA n2 ImportantT opic3 InP ython\n"
     ]
    }
   ],
   "source": [
    "#Question 9- Create a function in python to insert spaces between words starting with capital letters or with numbers.\n",
    "#Sample Text: “RegularExpression1IsAn2ImportantTopic3InPython\"\n",
    "#Expected Output:RegularExpression 1 IsAn 2 ImportantTopic 3 InPython\n",
    "\n",
    "\n",
    "import re\n",
    "\n",
    "def insert_spaces_before_caps_or_numbers(text):\n",
    "    # Use regular expression to insert spaces before words that start with capital letters or numbers\n",
    "    result = re.sub(r'([A-Z0-9])([A-Za-z])', r'\\1 \\2', text)\n",
    "    return result\n",
    "\n",
    "# Example usage:\n",
    "sample_text = \"RegularExpression1IsAn2ImportantTopic3InPython\"\n",
    "result_text = insert_spaces_before_caps_or_numbers(sample_text)\n",
    "print(result_text)\n",
    "\n",
    "\n"
   ]
  },
  {
   "cell_type": "code",
   "execution_count": 18,
   "id": "f385c24f",
   "metadata": {},
   "outputs": [
    {
     "name": "stdout",
     "output_type": "stream",
     "text": [
      "         Country first_five_letters\n",
      "0    Switzerland             Switze\n",
      "1        Iceland             Icelan\n",
      "2        Denmark             Denmar\n",
      "3         Norway             Norway\n",
      "4         Canada             Canada\n",
      "..           ...                ...\n",
      "153       Rwanda             Rwanda\n",
      "154        Benin              Benin\n",
      "155        Syria              Syria\n",
      "156      Burundi             Burund\n",
      "157         Togo               Togo\n",
      "\n",
      "[158 rows x 2 columns]\n"
     ]
    }
   ],
   "source": [
    "#Question 10-Use the github link below to read the data and create a dataframe. \n",
    "#After creating the dataframe extract the first 6 letters of each country and \n",
    "#store in the dataframe under a new column called first_five_letters.\n",
    "#Github Link- https://raw.githubusercontent.com/dsrscientist/DSData/master/happiness_score_dataset.csv\n",
    "\n",
    "\n",
    "import pandas as pd\n",
    "\n",
    "# Read the data from the GitHub link into a DataFrame\n",
    "url = \"https://raw.githubusercontent.com/dsrscientist/DSData/master/happiness_score_dataset.csv\"\n",
    "df = pd.read_csv(url)\n",
    "\n",
    "# Extract the first 6 letters of each country and store in a new column\n",
    "df['first_five_letters'] = df['Country'].str[:6]\n",
    "\n",
    "# Print the DataFrame to verify the results\n",
    "print(df[['Country', 'first_five_letters']])\n",
    "\n"
   ]
  },
  {
   "cell_type": "code",
   "execution_count": 19,
   "id": "0d2a1bc2",
   "metadata": {},
   "outputs": [
    {
     "name": "stdout",
     "output_type": "stream",
     "text": [
      "'Valid_String123' is a valid string.\n",
      "'Another_valid_String' is a valid string.\n",
      "'Invalid String!' is not a valid string.\n",
      "'invalid_string_with spaces' is not a valid string.\n"
     ]
    }
   ],
   "source": [
    "#Question 11- Write a Python program to match a string that \n",
    "#contains only upper and lowercase letters, numbers, and underscores.\n",
    "\n",
    "\n",
    "import re\n",
    "\n",
    "def is_valid_string(s):\n",
    "    pattern = re.compile(r'^[a-zA-Z0-9_]+$')\n",
    "    return bool(pattern.match(s))\n",
    "\n",
    "# Test the function\n",
    "test_strings = [\"Valid_String123\", \"Another_valid_String\", \"Invalid String!\", \"invalid_string_with spaces\"]\n",
    "\n",
    "for test_string in test_strings:\n",
    "    if is_valid_string(test_string):\n",
    "        print(f\"'{test_string}' is a valid string.\")\n",
    "    else:\n",
    "        print(f\"'{test_string}' is not a valid string.\")\n"
   ]
  },
  {
   "cell_type": "code",
   "execution_count": 23,
   "id": "dfbaed1b",
   "metadata": {},
   "outputs": [
    {
     "name": "stdout",
     "output_type": "stream",
     "text": [
      "The string does not start with 50.\n"
     ]
    }
   ],
   "source": [
    "#Question 12- Write a Python program where a string will start with a specific number.\n",
    "\n",
    "\n",
    "def starts_with_number(string, number):\n",
    "    # Check if the string starts with the specified number\n",
    "    return string.startswith(str(number))\n",
    "\n",
    "# Example usage:\n",
    "input_string = \"There are 50 chair in my room.\"\n",
    "\n",
    "specific_number = 50\n",
    "\n",
    "if starts_with_number(input_string, specific_number):\n",
    "    print(f\"The string starts with {specific_number}.\")\n",
    "else:\n",
    "    print(f\"The string does not start with {specific_number}.\")\n"
   ]
  },
  {
   "cell_type": "code",
   "execution_count": 24,
   "id": "7ee113d3",
   "metadata": {},
   "outputs": [
    {
     "name": "stdout",
     "output_type": "stream",
     "text": [
      "Original IP address: 192.001.001.010\n",
      "Cleaned IP address: 192.1.1.10\n"
     ]
    }
   ],
   "source": [
    "#Question 13- Write a Python program to remove leading zeros from an IP address\n",
    "\n",
    "\n",
    "def remove_leading_zeros(ip_address):\n",
    "    # Split the IP address into octets\n",
    "    octets = ip_address.split('.')\n",
    "\n",
    "    # Remove leading zeros from each octet and store them in a list\n",
    "    cleaned_octets = [str(int(octet)) for octet in octets]\n",
    "\n",
    "    # Join the cleaned octets to form the cleaned IP address\n",
    "    cleaned_ip_address = '.'.join(cleaned_octets)\n",
    "\n",
    "    return cleaned_ip_address\n",
    "\n",
    "# Example usage:\n",
    "ip_address = \"192.001.001.010\"\n",
    "cleaned_ip = remove_leading_zeros(ip_address)\n",
    "print(f\"Original IP address: {ip_address}\")\n",
    "print(f\"Cleaned IP address: {cleaned_ip}\")\n"
   ]
  },
  {
   "cell_type": "code",
   "execution_count": 28,
   "id": "06167b91",
   "metadata": {},
   "outputs": [
    {
     "name": "stdout",
     "output_type": "stream",
     "text": [
      "No matching date found in the text.\n"
     ]
    }
   ],
   "source": [
    "#  Question 14- Write a regular expression in python to match a date string in the form of Month \n",
    "#  name followed by day number and year stored in a text file.\n",
    "\n",
    "\n",
    "import re\n",
    "\n",
    "# Read the text from the file\n",
    "with open('sample_text.txt', 'r') as file:\n",
    "    text = file.read()\n",
    "\n",
    "# Define the regular expression pattern to match the desired date format\n",
    "pattern = r'\\b(January|February|March|April|May|June|July|August|September|October|November|December)\\s+\\d{1,2}(?:st|nd|rd|th)?\\s+\\d{4}\\b'\n",
    "\n",
    "# Find and print the matching date\n",
    "matches = re.findall(pattern, text)\n",
    "if matches:\n",
    "    print(matches[0])\n",
    "else:\n",
    "    print(\"No matching date found in the text.\")\n",
    "    \n",
    "\n"
   ]
  },
  {
   "cell_type": "code",
   "execution_count": 29,
   "id": "579dca45",
   "metadata": {},
   "outputs": [
    {
     "name": "stdout",
     "output_type": "stream",
     "text": [
      "Found the following words: fox, dog\n"
     ]
    }
   ],
   "source": [
    "#   Question 15- Write a Python program to search some literals strings in a string. \n",
    "#   Sample text : 'The quick brown fox jumps over the lazy dog.'\n",
    "#   Searched words : 'fox', 'dog', 'horse'\n",
    "\n",
    "\n",
    "\n",
    "def search_literals(text, words):\n",
    "    found_words = []\n",
    "    for word in words:\n",
    "        if text.find(word) != -1:\n",
    "            found_words.append(word)\n",
    "    return found_words\n",
    "\n",
    "sample_text = 'The quick brown fox jumps over the lazy dog.'\n",
    "searched_words = ['fox', 'dog', 'horse']\n",
    "\n",
    "found_words = search_literals(sample_text, searched_words)\n",
    "\n",
    "if found_words:\n",
    "    print(f\"Found the following words: {', '.join(found_words)}\")\n",
    "else:\n",
    "    print(\"No matching words found.\")\n",
    "\n"
   ]
  },
  {
   "cell_type": "code",
   "execution_count": 2,
   "id": "3de38d25",
   "metadata": {},
   "outputs": [
    {
     "name": "stdout",
     "output_type": "stream",
     "text": [
      "'fox' found at index 16 in the sample text.\n"
     ]
    }
   ],
   "source": [
    "# Question 16- Write a Python program to search a literals string in a string and\n",
    "# also find the location within the original string where the pattern occurs\n",
    "# Sample text : 'The quick brown fox jumps over the lazy dog.'\n",
    "# Searched words : 'fox'\n",
    "\n",
    "\n",
    "# Sample text\n",
    "sample_text = 'The quick brown fox jumps over the lazy dog.'\n",
    "\n",
    "# Searched word\n",
    "searched_word = 'fox'\n",
    "\n",
    "# Search for the word in the sample text\n",
    "index = sample_text.find(searched_word)\n",
    "\n",
    "if index != -1:\n",
    "    print(f\"'{searched_word}' found at index {index} in the sample text.\")\n",
    "else:\n",
    "    print(f\"'{searched_word}' not found in the sample text.\")\n"
   ]
  },
  {
   "cell_type": "code",
   "execution_count": 4,
   "id": "333799a4",
   "metadata": {},
   "outputs": [
    {
     "name": "stdout",
     "output_type": "stream",
     "text": [
      "'exercises' found at index 7\n",
      "'exercises' found at index 22\n",
      "'exercises' found at index 36\n"
     ]
    }
   ],
   "source": [
    "#Question 17- Write a Python program to find the substrings within a string.\n",
    "#Sample text : 'Python exercises, PHP exercises, C# exercises'\n",
    "#Pattern : 'exercises'\n",
    "\n",
    "\n",
    "sample_text = 'Python exercises, PHP exercises, C# exercises'\n",
    "\n",
    "# Pattern to search for\n",
    "pattern = 'exercises'\n",
    "\n",
    "start = 0\n",
    "while start < len(sample_text):\n",
    "    index = sample_text.find(pattern, start)\n",
    "    if index == -1:\n",
    "        break\n",
    "    print(f\"'{pattern}' found at index {index}\")\n",
    "    start = index + 1\n"
   ]
  },
  {
   "cell_type": "code",
   "execution_count": 6,
   "id": "0da12c3b",
   "metadata": {},
   "outputs": [
    {
     "name": "stdout",
     "output_type": "stream",
     "text": [
      "Occurrence 1: 'exercises' found at index 7\n",
      "Occurrence 2: 'exercises' found at index 22\n",
      "Occurrence 3: 'exercises' found at index 36\n"
     ]
    }
   ],
   "source": [
    "#Question 18- Write a Python program to find the occurrence and position of the substrings within a string.\n",
    "\n",
    "\n",
    "sample_text = 'Python exercises, PHP exercises, C# exercises'\n",
    "\n",
    "# Pattern to search for\n",
    "pattern = 'exercises'\n",
    "\n",
    "start = 0\n",
    "occurrence = 0\n",
    "\n",
    "while start < len(sample_text):\n",
    "    index = sample_text.find(pattern, start)\n",
    "    if index == -1:\n",
    "        break\n",
    "    print(f\"Occurrence {occurrence + 1}: '{pattern}' found at index {index}\")\n",
    "    start = index + 1\n",
    "    occurrence += 1\n",
    "\n",
    "if occurrence == 0:\n",
    "    print(f\"'{pattern}' not found in the sample text.\")\n"
   ]
  },
  {
   "cell_type": "code",
   "execution_count": 9,
   "id": "81d5d293",
   "metadata": {},
   "outputs": [
    {
     "name": "stdout",
     "output_type": "stream",
     "text": [
      "Original Date (yyyy-mm-dd): 2022-12-15\n",
      "Converted Date (dd-mm-yyyy): 15-12-2022\n"
     ]
    }
   ],
   "source": [
    "# Question 19- Write a Python program to convert a date of yyyy-mm-dd format to dd-mm-yyyy format.\n",
    "\n",
    "\n",
    "from datetime import datetime\n",
    "\n",
    "# Input date in yyyy-mm-dd format\n",
    "input_date = \"2022-12-15\"\n",
    "\n",
    "# Convert the input date to datetime object\n",
    "date_obj = datetime.strptime(input_date, \"%Y-%m-%d\")\n",
    "\n",
    "# Format the date in dd-mm-yyyy format\n",
    "formatted_date = date_obj.strftime(\"%d-%m-%Y\")\n",
    "\n",
    "print(f\"Original Date (yyyy-mm-dd): {input_date}\")\n",
    "print(f\"Converted Date (dd-mm-yyyy): {formatted_date}\")\n"
   ]
  },
  {
   "cell_type": "code",
   "execution_count": 13,
   "id": "5c1fbc5b",
   "metadata": {},
   "outputs": [
    {
     "name": "stdout",
     "output_type": "stream",
     "text": [
      "['01.12', '145.8', '3.01', '27.25', '0.25']\n"
     ]
    }
   ],
   "source": [
    "# Question 20- Create a function in python to find all decimal numbers with a precision of 1 or 2 in a string.\n",
    "# The use of the re.compile() method is mandatory.\n",
    "# Sample Text:\"01.12 0132.123 2.31875 145.8 3.01 27.25 0.25\"\n",
    "# Expected Output:['01.12', '145.8', '3.01', '27.25', '0.25']\n",
    "\n",
    "\n",
    "import re\n",
    "\n",
    "def find_decimal_numbers_with_precision(text):\n",
    "    # Define a regular expression pattern for decimal numbers with 1 or 2 decimal places\n",
    "    pattern = re.compile(r'\\b\\d+\\.\\d{1,2}\\b')\n",
    "    \n",
    "    # Use findall to find all matching numbers in the input text\n",
    "    matches = pattern.findall(text)\n",
    "    \n",
    "    return matches\n",
    "\n",
    "# Sample Text\n",
    "sample_text = \"01.12 0132.123 2.31875 145.8 3.01 27.25 0.25\"\n",
    "\n",
    "# Call the function and print the result\n",
    "result = find_decimal_numbers_with_precision(sample_text)\n",
    "print(result)"
   ]
  },
  {
   "cell_type": "code",
   "execution_count": 15,
   "id": "dc038926",
   "metadata": {},
   "outputs": [
    {
     "name": "stdout",
     "output_type": "stream",
     "text": [
      "Number: 25, Position: 29\n",
      "Number: 99, Position: 32\n",
      "Number: 3, Position: 53\n",
      "Number: 5, Position: 55\n"
     ]
    }
   ],
   "source": [
    "# Question 21- Write a Python program to separate and print the numbers and their position of a given string.\n",
    "\n",
    "\n",
    "import re\n",
    "\n",
    "def find_numbers_with_positions(text):\n",
    "    # Use regular expression to find numbers\n",
    "    pattern = re.compile(r'\\d+')\n",
    "    \n",
    "    # Find all matching numbers and their positions\n",
    "    matches = [(match.group(0), match.start()) for match in pattern.finditer(text)]\n",
    "    \n",
    "    return matches\n",
    "\n",
    "# Sample Text\n",
    "sample_text = \"The price of the product is $25.99 and the weight is 3.5 kg.\"\n",
    "\n",
    "# Call the function and print the result\n",
    "result = find_numbers_with_positions(sample_text)\n",
    "\n",
    "for number, position in result:\n",
    "    print(f\"Number: {number}, Position: {position}\")"
   ]
  },
  {
   "cell_type": "code",
   "execution_count": 16,
   "id": "e0ee7989",
   "metadata": {},
   "outputs": [
    {
     "name": "stdout",
     "output_type": "stream",
     "text": [
      "Maximum Numeric Value: 950\n"
     ]
    }
   ],
   "source": [
    "# Question 22- Write a regular expression in python program to extract maximum/largest numeric value from a string.\n",
    "# Sample Text: 'My marks in each semester are: 947, 896, 926, 524, 734, 950, 642'\n",
    "# Expected Output: 950\n",
    "\n",
    "\n",
    "import re\n",
    "\n",
    "def extract_max_numeric_value(text):\n",
    "    # Find all numeric values using regular expression\n",
    "    numeric_values = re.findall(r'\\d+', text)\n",
    "\n",
    "    if numeric_values:\n",
    "        # Convert the numeric values to integers and find the maximum\n",
    "        max_numeric_value = max(map(int, numeric_values))\n",
    "        return max_numeric_value\n",
    "    else:\n",
    "        return None\n",
    "\n",
    "# Sample Text\n",
    "sample_text = 'My marks in each semester are: 947, 896, 926, 524, 734, 950, 642'\n",
    "\n",
    "# Call the function and print the result\n",
    "result = extract_max_numeric_value(sample_text)\n",
    "\n",
    "if result is not None:\n",
    "    print(f\"Maximum Numeric Value: {result}\")\n",
    "else:\n",
    "    print(\"No numeric values found in the text.\")\n",
    "\n"
   ]
  },
  {
   "cell_type": "code",
   "execution_count": 17,
   "id": "20eb0393",
   "metadata": {},
   "outputs": [
    {
     "name": "stdout",
     "output_type": "stream",
     "text": [
      "Regular Expression Is An Important Topic In Python\n"
     ]
    }
   ],
   "source": [
    "# Question 23- Create a function in python to insert spaces between words starting with capital letters.\n",
    "# Sample Text: “RegularExpressionIsAnImportantTopicInPython\"\n",
    "# Expected Output:Regular Expression Is An Important Topic In Python\n",
    "\n",
    "\n",
    "import re\n",
    "\n",
    "def insert_spaces_between_capital_words(text):\n",
    "    # Use regular expression to find words starting with capital letters\n",
    "    words = re.findall(r'[A-Z][a-z]*', text)\n",
    "    \n",
    "    # Join the found words with spaces\n",
    "    result = ' '.join(words)\n",
    "    \n",
    "    return result\n",
    "\n",
    "# Sample Text\n",
    "sample_text = \"RegularExpressionIsAnImportantTopicInPython\"\n",
    "\n",
    "# Call the function and print the result\n",
    "result = insert_spaces_between_capital_words(sample_text)\n",
    "print(result)"
   ]
  },
  {
   "cell_type": "code",
   "execution_count": 19,
   "id": "54ab253e",
   "metadata": {},
   "outputs": [
    {
     "name": "stdout",
     "output_type": "stream",
     "text": [
      "['Hello', 'World', 'This', 'Python', 'Regular', 'Expression']\n"
     ]
    }
   ],
   "source": [
    "# Question 24-Python regex to find sequences of one upper case letter followed by lower case letters\n",
    "\n",
    "\n",
    "import re\n",
    "\n",
    "# Sample text\n",
    "sample_text = \"Hello, World! This is a Python Regular Expression example.\"\n",
    "\n",
    "# Regular expression pattern to find sequences of one uppercase letter followed by lowercase letters\n",
    "pattern = r'[A-Z][a-z]+'\n",
    "\n",
    "# Use re.findall to find all matches in the sample text\n",
    "matches = re.findall(pattern, sample_text)\n",
    "\n",
    "# Print the matched sequences\n",
    "print(matches)"
   ]
  },
  {
   "cell_type": "code",
   "execution_count": 20,
   "id": "234215f8",
   "metadata": {},
   "outputs": [
    {
     "name": "stdout",
     "output_type": "stream",
     "text": [
      "Hello hello world\n"
     ]
    }
   ],
   "source": [
    "# Question 25-Write a Python program to remove continuous duplicate words from Sentence using Regular Expression.\n",
    "# Sample Text:\"Hello hello world world\"\n",
    "# Expected Output: Hello hello world\n",
    "\n",
    "\n",
    "import re\n",
    "\n",
    "def remove_continuous_duplicates(text):\n",
    "    # Use regular expression to find continuous duplicate words\n",
    "    pattern = r'\\b(\\w+)( \\1)+\\b'\n",
    "    \n",
    "    # Replace duplicate words with a single occurrence\n",
    "    result = re.sub(pattern, r'\\1', text)\n",
    "    \n",
    "    return result\n",
    "\n",
    "# Sample Text\n",
    "sample_text = \"Hello hello world world\"\n",
    "\n",
    "# Call the function and print the result\n",
    "result = remove_continuous_duplicates(sample_text)\n",
    "print(result)\n"
   ]
  },
  {
   "cell_type": "code",
   "execution_count": 22,
   "id": "6f1d7aa0",
   "metadata": {},
   "outputs": [
    {
     "name": "stdout",
     "output_type": "stream",
     "text": [
      "'Hello123' ends with an alphanumeric character.\n"
     ]
    }
   ],
   "source": [
    "# Question 26- Write a python program using RegEx to accept string ending with alphanumeric character.\n",
    "\n",
    "\n",
    "import re\n",
    "\n",
    "def ends_with_alphanumeric(text):\n",
    "    # Regular expression pattern to match strings ending with an alphanumeric character\n",
    "    pattern = r'^.*[a-zA-Z0-9]$'\n",
    "    \n",
    "    # Use re.match to check if the text matches the pattern\n",
    "    match = re.match(pattern, text)\n",
    "    \n",
    "    if match:\n",
    "        return True\n",
    "    else:\n",
    "        return False\n",
    "\n",
    "# Input string to check\n",
    "input_string = \"Hello123\"\n",
    "\n",
    "# Check if the string ends with an alphanumeric character\n",
    "if ends_with_alphanumeric(input_string):\n",
    "    print(f\"'{input_string}' ends with an alphanumeric character.\")\n",
    "else:\n",
    "    print(f\"'{input_string}' does not end with an alphanumeric character.\")\n"
   ]
  },
  {
   "cell_type": "code",
   "execution_count": 23,
   "id": "f0202f9c",
   "metadata": {},
   "outputs": [
    {
     "name": "stdout",
     "output_type": "stream",
     "text": [
      "['#Doltiwal', '#xyzabc', '#Demonetization']\n"
     ]
    }
   ],
   "source": [
    "# Question 27-Write a python program using RegEx to extract the hashtags.\n",
    "# Sample Text: \"\"\"RT @kapil_kausik: #Doltiwal I mean #xyzabc is \"hurt\" by #Demonetization as the same has rendered USELESS <ed><U+00A0><U+00BD><ed><U+00B1><U+0089> \"acquired funds\" No wo\"\"\"\n",
    "# Expected Output:['#Doltiwal', '#xyzabc', '#Demonetization']\n",
    "\n",
    "import re\n",
    "\n",
    "def extract_hashtags(text):\n",
    "    # Regular expression pattern to match hashtags\n",
    "    pattern = r'#\\w+'\n",
    "    \n",
    "    # Use re.findall to find all matching hashtags in the text\n",
    "    hashtags = re.findall(pattern, text)\n",
    "    \n",
    "    return hashtags\n",
    "\n",
    "# Sample Text\n",
    "sample_text = \"\"\"RT @kapil_kausik: #Doltiwal I mean #xyzabc is \"hurt\" by #Demonetization as the same has rendered USELESS <ed><U+00A0><U+00BD><ed><U+00B1><U+0089> \"acquired funds\" No wo\"\"\"\n",
    "\n",
    "# Call the function and print the result\n",
    "result = extract_hashtags(sample_text)\n",
    "print(result)"
   ]
  },
  {
   "cell_type": "code",
   "execution_count": 24,
   "id": "226b206e",
   "metadata": {},
   "outputs": [
    {
     "name": "stdout",
     "output_type": "stream",
     "text": [
      "@Jags123456 Bharat band on 28??<ed><ed>Those who  are protesting #demonetization  are all different party leaders\n"
     ]
    }
   ],
   "source": [
    "# Question 28- Write a python program using RegEx to remove <U+..> like symbols\n",
    "# Check the below sample text, there are strange symbols something of the sort <U+..> all over the place. \n",
    "# You need to come up with a general Regex expression that will cover all such symbols.\n",
    "# Sample Text: \"@Jags123456 Bharat band on 28??<ed><U+00A0><U+00BD><ed><U+00B8><U+0082>Those who,\n",
    "# are protesting #demonetization  are all different party leaders\"\n",
    "# Expected Output:@Jags123456 Bharat band on 28??<ed><ed>Those who  are protesting #demonetization,\n",
    "# are all different party leaders\n",
    "\n",
    "\n",
    "import re\n",
    "\n",
    "def remove_u_symbols(text):\n",
    "    # Regular expression pattern to match <U+..> like symbols\n",
    "    pattern = r'<U\\+[A-F0-9]+>'\n",
    "    \n",
    "    # Use re.sub to replace matched symbols with an empty string\n",
    "    result = re.sub(pattern, '', text)\n",
    "    \n",
    "    return result\n",
    "\n",
    "# Sample Text\n",
    "sample_text = \"@Jags123456 Bharat band on 28??<ed><U+00A0><U+00BD><ed><U+00B8><U+0082>Those who  are protesting #demonetization  are all different party leaders\"\n",
    "\n",
    "# Call the function and print the result\n",
    "result = remove_u_symbols(sample_text)\n",
    "print (result)\n",
    "\n",
    "\n",
    "\n"
   ]
  },
  {
   "cell_type": "code",
   "execution_count": 25,
   "id": "4aad108b",
   "metadata": {},
   "outputs": [
    {
     "name": "stdout",
     "output_type": "stream",
     "text": [
      "No dates found in the file.\n"
     ]
    }
   ],
   "source": [
    "# Question 29- Write a python program to extract dates from the text stored in the text file.\n",
    "# Sample Text:Ron was born on 12-09-1992 and he was admitted to school 15-12-1999.\n",
    "# Note- Store this sample text in the file and then extract dates.\n",
    "\n",
    "\n",
    "import re\n",
    "\n",
    "def extract_dates_from_file(file_path):\n",
    "    try:\n",
    "        # Open and read the content of the text file\n",
    "        with open(file_path, 'r') as file:\n",
    "            text = file.read()\n",
    "\n",
    "        # Regular expression pattern to match dates in the format DD-MM-YYYY\n",
    "        date_pattern = r'\\d{2}-\\d{2}-\\d{4}'\n",
    "\n",
    "        # Use re.findall to extract all matching dates from the text\n",
    "        dates = re.findall(date_pattern, text)\n",
    "\n",
    "        return dates\n",
    "\n",
    "    except FileNotFoundError:\n",
    "        print(f\"File not found: {file_path}\")\n",
    "        return []\n",
    "\n",
    "# Specify the path to the text file\n",
    "file_path = 'sample_text.txt'\n",
    "\n",
    "# Call the function and print the extracted dates\n",
    "extracted_dates = extract_dates_from_file(file_path)\n",
    "\n",
    "if extracted_dates:\n",
    "    print(\"Dates extracted from the file:\")\n",
    "    for date in extracted_dates:\n",
    "        print(date)\n",
    "else:\n",
    "    print(\"No dates found in the file.\")\n",
    "\n"
   ]
  },
  {
   "cell_type": "code",
   "execution_count": 26,
   "id": "d6f12e3b",
   "metadata": {},
   "outputs": [
    {
     "name": "stdout",
     "output_type": "stream",
     "text": [
      " following example creates  ArrayList  a capacity   elements. 4 elements   added   ArrayList   ArrayList  trimmed accordingly.\n"
     ]
    }
   ],
   "source": [
    "# Question 30- Create a function inpython to remove all words from a string of length between 2 and 4.\n",
    "# The use of the re.compile() method is mandatory.\n",
    "# Sample Text:\"The following example creates an ArrayList with a capacity of 50 elements.\n",
    "# 4 elements are then added to the ArrayList and the ArrayList is trimmed accordingly.\"\n",
    "# Expected Output:following example creates ArrayList a capacity elements.\n",
    "# 4 elements added ArrayList ArrayList trimmed accordingly.\n",
    "\n",
    "\n",
    "import re\n",
    "\n",
    "def remove_words_by_length(text):\n",
    "    # Define a regular expression pattern to match words with a length between 2 and 4 characters\n",
    "    pattern = re.compile(r'\\b\\w{2,4}\\b')\n",
    "    \n",
    "    # Use re.sub to replace matched words with an empty string\n",
    "    result = pattern.sub('', text)\n",
    "    \n",
    "    return result\n",
    "\n",
    "# Sample Text\n",
    "sample_text = \"The following example creates an ArrayList with a capacity of 50 elements. 4 elements are then added to the ArrayList and the ArrayList is trimmed accordingly.\"\n",
    "\n",
    "# Call the function and print the result\n",
    "result = remove_words_by_length(sample_text)\n",
    "print(result)\n"
   ]
  },
  {
   "cell_type": "code",
   "execution_count": null,
   "id": "827df453",
   "metadata": {},
   "outputs": [],
   "source": []
  }
 ],
 "metadata": {
  "kernelspec": {
   "display_name": "Python 3 (ipykernel)",
   "language": "python",
   "name": "python3"
  },
  "language_info": {
   "codemirror_mode": {
    "name": "ipython",
    "version": 3
   },
   "file_extension": ".py",
   "mimetype": "text/x-python",
   "name": "python",
   "nbconvert_exporter": "python",
   "pygments_lexer": "ipython3",
   "version": "3.10.9"
  }
 },
 "nbformat": 4,
 "nbformat_minor": 5
}
